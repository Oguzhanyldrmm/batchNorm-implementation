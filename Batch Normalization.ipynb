{
 "cells": [
  {
   "cell_type": "code",
   "execution_count": 1,
   "id": "b32a9290-bed6-4491-82db-d34179eef9b2",
   "metadata": {},
   "outputs": [],
   "source": [
    "import torch\n",
    "import torch.nn.functional as F\n",
    "import matplotlib.pyplot as plt # for making figures\n",
    "%matplotlib inline"
   ]
  },
  {
   "cell_type": "code",
   "execution_count": 3,
   "id": "7ae104dc-834c-4813-b7f0-5250d0e49975",
   "metadata": {},
   "outputs": [
    {
     "data": {
      "text/plain": [
       "['emma', 'olivia', 'ava', 'isabella', 'sophia', 'charlotte', 'mia', 'amelia']"
      ]
     },
     "execution_count": 3,
     "metadata": {},
     "output_type": "execute_result"
    }
   ],
   "source": [
    "# read in all the words\n",
    "words = open('names.txt', 'r').read().splitlines()\n",
    "words[:8]"
   ]
  },
  {
   "cell_type": "code",
   "execution_count": 4,
   "id": "ce7e1837-b80c-49f2-955a-efa6bfca4891",
   "metadata": {},
   "outputs": [
    {
     "data": {
      "text/plain": [
       "32033"
      ]
     },
     "execution_count": 4,
     "metadata": {},
     "output_type": "execute_result"
    }
   ],
   "source": [
    "len(words)"
   ]
  },
  {
   "cell_type": "code",
   "execution_count": 5,
   "id": "b4a7f6d3-0c1e-4aea-a580-e980ad7784ac",
   "metadata": {},
   "outputs": [
    {
     "name": "stdout",
     "output_type": "stream",
     "text": [
      "{1: 'a', 2: 'b', 3: 'c', 4: 'd', 5: 'e', 6: 'f', 7: 'g', 8: 'h', 9: 'i', 10: 'j', 11: 'k', 12: 'l', 13: 'm', 14: 'n', 15: 'o', 16: 'p', 17: 'q', 18: 'r', 19: 's', 20: 't', 21: 'u', 22: 'v', 23: 'w', 24: 'x', 25: 'y', 26: 'z', 0: '.'}\n",
      "27\n"
     ]
    }
   ],
   "source": [
    "# build the vocabulary of characters and mappings to/from integers\n",
    "chars = sorted(list(set(''.join(words))))\n",
    "stoi = {s:i+1 for i,s in enumerate(chars)}\n",
    "stoi['.'] = 0\n",
    "itos = {i:s for s,i in stoi.items()}\n",
    "vocab_size = len(itos)\n",
    "print(itos)\n",
    "print(vocab_size)"
   ]
  },
  {
   "cell_type": "code",
   "execution_count": 6,
   "id": "c41cb59c-4941-462c-86ff-c2c3c46c793f",
   "metadata": {},
   "outputs": [
    {
     "name": "stdout",
     "output_type": "stream",
     "text": [
      "torch.Size([182625, 3]) torch.Size([182625])\n",
      "torch.Size([22655, 3]) torch.Size([22655])\n",
      "torch.Size([22866, 3]) torch.Size([22866])\n"
     ]
    }
   ],
   "source": [
    "# build the dataset\n",
    "block_size = 3 # context length: how many characters do we take to predict the next one?\n",
    "\n",
    "def build_dataset(words):  \n",
    "  X, Y = [], []\n",
    "  \n",
    "  for w in words:\n",
    "    context = [0] * block_size\n",
    "    for ch in w + '.':\n",
    "      ix = stoi[ch]\n",
    "      X.append(context)\n",
    "      Y.append(ix)\n",
    "      context = context[1:] + [ix] # crop and append\n",
    "\n",
    "  X = torch.tensor(X)\n",
    "  Y = torch.tensor(Y)\n",
    "  print(X.shape, Y.shape)\n",
    "  return X, Y\n",
    "\n",
    "import random\n",
    "random.seed(42)\n",
    "random.shuffle(words)\n",
    "n1 = int(0.8*len(words))\n",
    "n2 = int(0.9*len(words))\n",
    "\n",
    "Xtr,  Ytr  = build_dataset(words[:n1])     # 80%\n",
    "Xdev, Ydev = build_dataset(words[n1:n2])   # 10%\n",
    "Xte,  Yte  = build_dataset(words[n2:])     # 10%"
   ]
  },
  {
   "cell_type": "code",
   "execution_count": 35,
   "id": "9418aa4c-c688-4b21-97e1-0ce4d2ec8569",
   "metadata": {},
   "outputs": [
    {
     "name": "stdout",
     "output_type": "stream",
     "text": [
      "12097\n"
     ]
    }
   ],
   "source": [
    "# MLP revisited\n",
    "n_embd = 10 # the dimensionality of the character embedding vectors\n",
    "n_hidden = 200 # the number of neurons in the hidden layer of the MLP\n",
    "\n",
    "g = torch.Generator().manual_seed(2147483647) # for reproducibility\n",
    "C  = torch.randn((vocab_size, n_embd),            generator=g)\n",
    "W1 = torch.randn((n_embd * block_size, n_hidden), generator=g) * (5/3) / ((n_embd * block_size) ** 0.5) # Kaiming initialization\n",
    "b1 = torch.randn(n_hidden,                        generator=g) * 0.01 # because of bnbias, b1 is wasteful\n",
    "W2 = torch.randn((n_hidden, vocab_size),          generator=g) * 0.01\n",
    "b2 = torch.randn(vocab_size,                      generator=g) * 0\n",
    "\n",
    "bngain = torch.ones((1, n_hidden))\n",
    "bnbias = torch.zeros((1, n_hidden))\n",
    "bnmean_running = torch.zeros((1, n_hidden))\n",
    "bnstd_running = torch.ones((1, n_hidden))\n",
    "\n",
    "#std = (gain/ root of fanin), gain is specail constant for each activation functions\n",
    "#for w1; std = (5/3) / ((n_embd * block_size) ** 0.5)\n",
    "\n",
    "parameters = [C, W1,  W2, b2, bngain, bnbias]\n",
    "print(sum(p.nelement() for p in parameters)) # number of parameters in total\n",
    "for p in parameters:\n",
    "  p.requires_grad = True"
   ]
  },
  {
   "cell_type": "code",
   "execution_count": 47,
   "id": "1ca19d89-e888-4898-b223-8c7cb7e522c5",
   "metadata": {},
   "outputs": [
    {
     "data": {
      "text/plain": [
       "torch.Size([1, 200])"
      ]
     },
     "execution_count": 47,
     "metadata": {},
     "output_type": "execute_result"
    }
   ],
   "source": [
    "hpreact.mean(0, keepdim=True).shape"
   ]
  },
  {
   "cell_type": "code",
   "execution_count": 48,
   "id": "68ca12c6-8dca-4655-a082-cd046515fc4d",
   "metadata": {},
   "outputs": [
    {
     "data": {
      "text/plain": [
       "torch.Size([1, 200])"
      ]
     },
     "execution_count": 48,
     "metadata": {},
     "output_type": "execute_result"
    }
   ],
   "source": [
    "hpreact.std(0, keepdim=True).shape"
   ]
  },
  {
   "cell_type": "code",
   "execution_count": 36,
   "id": "f653a87a-f0f6-46b3-a679-505435fbc56a",
   "metadata": {},
   "outputs": [
    {
     "name": "stdout",
     "output_type": "stream",
     "text": [
      "       0/ 200000: 3.3147\n",
      "   10000/ 200000: 2.1984\n",
      "   20000/ 200000: 2.3375\n",
      "   30000/ 200000: 2.4359\n",
      "   40000/ 200000: 2.0119\n",
      "   50000/ 200000: 2.2595\n",
      "   60000/ 200000: 2.4775\n",
      "   70000/ 200000: 2.1020\n",
      "   80000/ 200000: 2.2788\n",
      "   90000/ 200000: 2.1862\n",
      "  100000/ 200000: 1.9474\n",
      "  110000/ 200000: 2.3010\n",
      "  120000/ 200000: 1.9837\n",
      "  130000/ 200000: 2.4523\n",
      "  140000/ 200000: 2.3839\n",
      "  150000/ 200000: 2.1987\n",
      "  160000/ 200000: 1.9733\n",
      "  170000/ 200000: 1.8668\n",
      "  180000/ 200000: 1.9973\n",
      "  190000/ 200000: 1.8347\n"
     ]
    }
   ],
   "source": [
    "# same optimization as last time\n",
    "\n",
    "max_steps = 200000\n",
    "batch_size = 32\n",
    "lossi = []\n",
    "\n",
    "for i in range (max_steps):\n",
    "    \n",
    "    #minibatch construct\n",
    "    ix = torch.randint(0, Xtr.shape[0], (batch_size,), generator=g)\n",
    "    Xb, Yb = Xtr[ix], Ytr[ix] # batch X,Y\n",
    "    # forward pass\n",
    "    emb = C[Xb] # embed the characters into vectors\n",
    "    embcat = emb.view (emb.shape[0], -1) # concatenate the vectors\n",
    "    hpreact = embcat @ W1  # +  b1 # hidden layer pre-activation\n",
    "\n",
    "    bnmeani = hpreact.mean(0, keepdim=True)\n",
    "    bnstdi = hpreact.std(0, keepdim=True)\n",
    "    hpreact = bngain * (hpreact - bnmeani) / bnstdi + bnbias\n",
    "\n",
    "    with torch.no_grad():\n",
    "        bnmean_running = 0.999 * bnmean_running + 0.001 * bnmeani\n",
    "        bnstd_running = 0.999 * bnstd_running + 0.001 * bnstdi\n",
    "    \n",
    "    h = torch.tanh (hpreact) # hidden layer\n",
    "    logits = h @ W2 + b2 # output layer\n",
    "    loss = F.cross_entropy (logits, Yb) # loss function\n",
    "    # backward pass\n",
    "    for p in parameters:\n",
    "        p.grad = None\n",
    "    loss.backward()\n",
    "    # update\n",
    "    lr = 0.1 if i < 100000 else 0.01 # step learning rate decay\n",
    "    for p in parameters:\n",
    "        p.data += -lr * p.grad\n",
    "    # track stats\n",
    "    if i % 10000 == 0: # print every once in a while\n",
    "        print (f' {i:7d}/{max_steps:7d}: {loss.item():.4f}')\n",
    "    lossi.append(loss.log10().item())\n",
    "    #break"
   ]
  },
  {
   "cell_type": "code",
   "execution_count": 26,
   "id": "b7adad0e-4737-4801-83ba-10fceb3a20db",
   "metadata": {},
   "outputs": [
    {
     "data": {
      "image/png": "[encoded data removed]",
      "text/plain": [
       "<Figure size 640x480 with 1 Axes>"
      ]
     },
     "metadata": {},
     "output_type": "display_data"
    }
   ],
   "source": [
    "plt.hist(h.view(-1).tolist(), 50); #distributions of tanh activation"
   ]
  },
  {
   "cell_type": "code",
   "execution_count": 27,
   "id": "42d69842-dfc4-4b9f-b9ef-296e9a01b2c3",
   "metadata": {},
   "outputs": [
    {
     "data": {
      "image/png": "[encoded data removed]",
      "text/plain": [
       "<Figure size 640x480 with 1 Axes>"
      ]
     },
     "metadata": {},
     "output_type": "display_data"
    }
   ],
   "source": [
    "plt.hist(hpreact.view(-1).tolist(), 50); #distributions of hpreact"
   ]
  },
  {
   "cell_type": "code",
   "execution_count": 28,
   "id": "2d223c67-d9d6-462a-80a6-6cda9d7b3fe2",
   "metadata": {},
   "outputs": [
    {
     "data": {
      "text/plain": [
       "<matplotlib.image.AxesImage at 0x191847af5b0>"
      ]
     },
     "execution_count": 28,
     "metadata": {},
     "output_type": "execute_result"
    },
    {
     "data": {
      "image/png": "[encoded data removed]",
      "text/plain": [
       "<Figure size 2000x4000 with 1 Axes>"
      ]
     },
     "metadata": {},
     "output_type": "display_data"
    }
   ],
   "source": [
    "plt.figure(figsize=(20, 40))\n",
    "plt.imshow(h.abs() > 0.99, cmap='gray', interpolation = 'nearest')\n",
    "#If any column is whole white then it called \"a dead neuron\""
   ]
  },
  {
   "cell_type": "code",
   "execution_count": null,
   "id": "308bc260-aa7d-44bb-a5af-4cc54028991e",
   "metadata": {},
   "outputs": [],
   "source": [
    "logits = torch.tensor([0.0, 0.0, 3.0, 0.0])\n",
    "probs = torch.softmax(logits, dim=0)\n",
    "loss = -probs[2].log()\n",
    "probs, loss"
   ]
  },
  {
   "cell_type": "code",
   "execution_count": 29,
   "id": "39a3c9b8-cf8e-481f-be02-00feba212d19",
   "metadata": {},
   "outputs": [
    {
     "data": {
      "text/plain": [
       "[<matplotlib.lines.Line2D at 0x19183447400>]"
      ]
     },
     "execution_count": 29,
     "metadata": {},
     "output_type": "execute_result"
    },
    {
     "data": {
      "image/png": "[encoded data removed]",
      "text/plain": [
       "<Figure size 640x480 with 1 Axes>"
      ]
     },
     "metadata": {},
     "output_type": "display_data"
    }
   ],
   "source": [
    "plt.plot(lossi)"
   ]
  },
  {
   "cell_type": "code",
   "execution_count": 30,
   "id": "71e18463-12cf-45c9-ad1e-86b3dec8e416",
   "metadata": {},
   "outputs": [],
   "source": [
    "# calibrate batch norm at the end of training\n",
    "\n",
    "with torch.no_grad():\n",
    "    # pass the training set through\n",
    "    emb = C[Xtr]\n",
    "    embcat = emb.view(emb.shape[0], -1)\n",
    "    hpreact = embcat @ W1 \n",
    "    # measure the mean/std over the entire training set\n",
    "    bnmean = hpreact.mean(0, keepdim=True)\n",
    "    bnstd = hpreact.std(0, keepdim=True)\n",
    "    "
   ]
  },
  {
   "cell_type": "code",
   "execution_count": 31,
   "id": "98b18c73-d1dc-41e4-901f-4f2f8abbf61f",
   "metadata": {},
   "outputs": [
    {
     "data": {
      "text/plain": [
       "tensor([[-2.7958e+00,  7.1048e-01, -8.7686e-01,  9.2298e-01,  1.3306e+00,\n",
       "          1.6343e+00,  2.6635e+00, -1.8416e+00,  5.9183e-01,  1.3132e+00,\n",
       "         -2.1547e+00, -2.6044e+00, -8.1745e-01, -3.3151e-01, -4.2749e-01,\n",
       "          6.8339e-02,  1.3182e+00, -2.8981e+00, -6.1827e-01,  1.5721e+00,\n",
       "         -8.6524e-01, -6.5405e-02,  4.8284e-01,  7.7396e-01,  1.8665e+00,\n",
       "         -1.1199e+00,  1.9443e+00,  8.1121e-01, -1.5757e-01,  2.5053e+00,\n",
       "         -5.3651e-02, -1.3597e+00, -1.0319e+00,  4.1389e-02,  1.8747e-01,\n",
       "         -6.9674e-01, -9.2941e-01,  1.9096e-01, -1.1103e+00,  1.0725e+00,\n",
       "         -1.0264e+00, -1.1938e+00, -8.3321e-01, -4.1362e-01,  9.9160e-01,\n",
       "          2.8802e-01,  1.4563e+00, -1.1433e+00,  2.5001e+00,  1.2986e+00,\n",
       "          2.8408e-01,  3.9376e-01,  2.4543e+00,  7.9602e-01,  2.4005e-01,\n",
       "         -2.2163e+00,  1.7907e-01,  3.6883e-01,  1.1897e+00, -1.9102e+00,\n",
       "         -8.6507e-01,  9.8304e-01,  2.0370e-01,  5.8984e-01,  1.7883e+00,\n",
       "          1.1460e+00, -1.0143e+00,  1.6310e+00, -1.0857e+00,  4.9098e-02,\n",
       "          7.0453e-02,  5.4987e-01,  1.2238e+00, -1.6863e+00, -2.9190e+00,\n",
       "          1.2279e-01,  9.6867e-01,  2.7479e-01,  6.2323e-01,  4.0302e-01,\n",
       "          1.1300e-01,  1.4528e+00,  1.9952e+00,  9.2275e-01,  1.0542e+00,\n",
       "         -3.9008e-01, -2.4745e+00,  3.0949e-01,  2.4094e+00,  1.3752e-01,\n",
       "         -1.6912e+00,  1.0041e+00, -6.6033e-01, -9.8144e-01, -5.5906e-01,\n",
       "          6.8360e-01, -3.0327e-02, -5.1366e-01, -1.6114e-01, -6.0421e-01,\n",
       "          7.8037e-01,  5.4442e-01, -1.4497e+00, -3.3800e-01,  1.3230e+00,\n",
       "          6.8094e-01, -1.4341e+00, -4.1964e-01,  1.0506e+00, -1.2758e+00,\n",
       "          1.2026e+00,  3.2863e-01, -1.9680e-01,  1.6066e+00,  3.0104e+00,\n",
       "          1.6936e+00,  5.5478e-01,  7.0710e-01,  2.6017e-01, -9.8163e-01,\n",
       "         -1.2147e+00, -1.4095e+00,  7.9195e-01,  2.1583e+00, -1.0662e+00,\n",
       "         -1.9843e-01, -6.3787e-01, -2.0656e-01, -6.5723e-01, -6.5139e-01,\n",
       "          1.9755e+00, -1.7107e+00,  7.3750e-01,  1.4628e+00,  1.0939e+00,\n",
       "          1.2388e+00, -4.0518e-01,  1.7456e+00,  7.1693e-02,  1.1342e+00,\n",
       "          5.1883e-01,  8.3672e-01,  1.5773e+00, -4.4141e-01,  1.1130e+00,\n",
       "          7.7155e-01,  5.4242e-01, -1.1237e+00,  3.2523e-01,  5.9606e-01,\n",
       "         -5.6153e-01, -2.8805e-01,  1.5199e+00,  1.8571e+00,  8.1191e-01,\n",
       "         -1.1311e+00,  1.9098e+00, -2.0894e+00,  7.5037e-01,  3.1212e-01,\n",
       "          8.0101e-01, -2.5746e-03,  9.7098e-01, -2.6612e-01, -1.8667e-01,\n",
       "          2.1645e-01, -3.0994e-01,  5.2893e-01, -1.4517e+00, -9.1706e-01,\n",
       "          4.6297e-01, -8.2201e-01,  5.9518e-01, -1.4596e+00, -1.2161e+00,\n",
       "          8.2114e-01,  1.6513e+00, -1.4117e+00,  1.0814e+00, -1.2446e+00,\n",
       "          2.1310e+00,  6.5383e-01,  7.7784e-01, -4.9505e-02,  2.4669e-01,\n",
       "          5.5839e-01, -1.0399e+00, -5.9399e-01,  1.9876e+00,  8.5861e-01,\n",
       "         -7.0657e-01,  1.8269e+00, -1.2831e-01, -5.9865e-01,  6.9448e-01,\n",
       "          1.7493e+00,  1.6196e+00, -9.8730e-01,  4.9602e-01,  5.9536e-01]])"
      ]
     },
     "execution_count": 31,
     "metadata": {},
     "output_type": "execute_result"
    }
   ],
   "source": [
    "bnmean"
   ]
  },
  {
   "cell_type": "code",
   "execution_count": 32,
   "id": "74ba0aff-ace3-4763-aa52-388d867e5b30",
   "metadata": {},
   "outputs": [
    {
     "data": {
      "text/plain": [
       "tensor([[-2.8112,  0.7182, -0.8691,  0.9296,  1.3394,  1.6281,  2.6612, -1.8544,\n",
       "          0.5801,  1.2969, -2.1676, -2.6183, -0.8187, -0.3381, -0.4243,  0.0876,\n",
       "          1.3321, -2.9077, -0.6389,  1.5570, -0.8616, -0.0426,  0.4678,  0.7803,\n",
       "          1.8660, -1.1145,  1.9580,  0.8101, -0.1598,  2.5125, -0.0630, -1.3626,\n",
       "         -1.0307,  0.0431,  0.1956, -0.6980, -0.9311,  0.1784, -1.0972,  1.0787,\n",
       "         -1.0323, -1.2147, -0.8338, -0.4174,  0.9993,  0.2980,  1.4657, -1.1557,\n",
       "          2.4847,  1.2882,  0.2677,  0.3829,  2.4507,  0.8068,  0.2489, -2.2182,\n",
       "          0.1760,  0.3660,  1.1983, -1.9198, -0.8762,  0.9779,  0.1939,  0.5818,\n",
       "          1.7871,  1.1426, -1.0229,  1.6389, -1.0793,  0.0613,  0.0696,  0.5413,\n",
       "          1.2133, -1.6766, -2.9116,  0.1123,  0.9743,  0.2854,  0.6263,  0.3937,\n",
       "          0.1164,  1.4464,  1.9855,  0.9231,  1.0525, -0.3981, -2.4829,  0.3153,\n",
       "          2.4056,  0.1535, -1.7000,  1.0114, -0.6635, -0.9832, -0.5597,  0.6826,\n",
       "         -0.0358, -0.5193, -0.1681, -0.5804,  0.7859,  0.5455, -1.4615, -0.3429,\n",
       "          1.3237,  0.6921, -1.4240, -0.4162,  1.0637, -1.2764,  1.1975,  0.3418,\n",
       "         -0.2094,  1.6105,  3.0017,  1.6790,  0.5363,  0.7013,  0.2633, -0.9783,\n",
       "         -1.2316, -1.3978,  0.7880,  2.1703, -1.0765, -0.1975, -0.6508, -0.2015,\n",
       "         -0.6478, -0.6444,  1.9547, -1.7158,  0.7415,  1.4572,  1.1054,  1.2529,\n",
       "         -0.4015,  1.7321,  0.0691,  1.1495,  0.5316,  0.8324,  1.5906, -0.4488,\n",
       "          1.1109,  0.7714,  0.5533, -1.1298,  0.3249,  0.5946, -0.5658, -0.2761,\n",
       "          1.5209,  1.8643,  0.8036, -1.1286,  1.9082, -2.0907,  0.7539,  0.2991,\n",
       "          0.7952,  0.0092,  0.9698, -0.2587, -0.1914,  0.2073, -0.3018,  0.5228,\n",
       "         -1.4518, -0.9175,  0.4446, -0.8325,  0.6023, -1.4441, -1.2221,  0.8285,\n",
       "          1.6504, -1.4034,  1.0817, -1.2443,  2.1211,  0.6607,  0.7696, -0.0603,\n",
       "          0.2416,  0.5564, -1.0367, -0.6012,  2.0064,  0.8535, -0.6980,  1.8205,\n",
       "         -0.1415, -0.6015,  0.7015,  1.7375,  1.6210, -0.9837,  0.4890,  0.5864]])"
      ]
     },
     "execution_count": 32,
     "metadata": {},
     "output_type": "execute_result"
    }
   ],
   "source": [
    "bnmean_running"
   ]
  },
  {
   "cell_type": "code",
   "execution_count": 33,
   "id": "b5196975-3c44-4ae8-826f-78117e1f4e26",
   "metadata": {},
   "outputs": [
    {
     "name": "stdout",
     "output_type": "stream",
     "text": [
      "train 2.067103624343872\n",
      "val 2.1081297397613525\n"
     ]
    }
   ],
   "source": [
    "@torch.no_grad() # this decorator disables gradient tracking\n",
    "def split_loss (split):\n",
    "    x, y = {\n",
    "    'train': (Xtr, Ytr),\n",
    "    'val': (Xdev, Ydev),\n",
    "    'test': (Xte, Yte),\n",
    "    } [split]\n",
    "    emb = C[x] # (N, block_size, n_embd)\n",
    "    embcat = emb.view (emb.shape[0], -1) # concat into (N, block_size* n_embd)\n",
    "    hpreact = embcat @ W1 \n",
    "    #hpreact = bngain * (hpreact - hpreact.mean(0, keepdim=True)) / hpreact.std(0, keepdim=True) + bnbias\n",
    "    hpreact = bngain * (hpreact - bnmean_running) / bnstd_running + bnbias\n",
    "    h = torch.tanh(hpreact) # (N, n_hidden) \n",
    "    logits = h @ W2 + b2 # (N, vocab_size)\n",
    "    loss = F.cross_entropy (logits, y)\n",
    "    print (split, loss.item())\n",
    "split_loss('train')\n",
    "split_loss('val')"
   ]
  },
  {
   "cell_type": "code",
   "execution_count": 34,
   "id": "aae423c2-a750-49d4-b3e8-22be8fbe3c44",
   "metadata": {},
   "outputs": [
    {
     "name": "stdout",
     "output_type": "stream",
     "text": [
      "brithl.\n",
      "sadlizelmadhahmmarzisrngeld.\n",
      "qie.\n",
      "szeerdne.\n",
      "klusspprenriksissanghannyxtzishmyasnnjshdunrgahghnnstke.\n",
      "jownllvinnchusfcurmarvellyasqufmergylversseffydiahnl.\n",
      "sadya.\n",
      "suftzalklubusslytry.\n",
      "ksvelleggprvdnn.\n",
      "qyenexphmbpeilcormtyzlavhanvollisaqiincerphswnllamittasstviktegsisssmaizbaklvissirvellennrketzullysxavonndkosbiennccaldmotgttai.\n",
      "bdylhavirlquijaskparguislr.\n",
      "klyamiizsskloniellahnnylvikshlyyanshnvarcerzabrkkenzjaythn.\n",
      "jamellesslannviggdrviktnatguem.\n",
      "cannibsllvinhtanmosswuscaldordnkarpokspopplmnenlysshfalrxesskfiunssrighansh.\n",
      "ksabic.\n",
      "clustancssnd.\n",
      "khimmarnahlynnakhlembegghisslavonnixzck.\n",
      "xayrssellus.\n",
      "qienlixsadlfgirtxleerpie.\n",
      "qeeladia.\n"
     ]
    }
   ],
   "source": [
    "# sample from the model\n",
    "g = torch.Generator().manual_seed (2147483647 + 10)\n",
    "for _ in range(20):\n",
    "    \n",
    "    out = []\n",
    "    context = [0] * block_size # initialize with all ...\n",
    "    while True:\n",
    "        # forward pass the neural net\n",
    "        emb = C[torch. tensor ( [context])] # (1,block_size,n_embd)\n",
    "        h = torch.tanh (emb.view(1, -1) @ W1 + b1 )\n",
    "        logits = h @ W2 + b2\n",
    "        probs = F.softmax (logits, dim=1)\n",
    "        # sample from the distribution\n",
    "        ix = torch.multinomial (probs, num_samples=1, generator=g).item()\n",
    "        # shift the context window and track the samples\n",
    "        context = context[1:] + [ix]\n",
    "        out.append(ix)\n",
    "        # if we sample the special '.' token, break\n",
    "        if ix == 0:\n",
    "            break\n",
    "    print(''.join(itos[i] for i in out)) # decode and print the generated word"
   ]
  },
  {
   "cell_type": "code",
   "execution_count": null,
   "id": "d652dbd4-fe9d-4bec-adce-df823d1e4eb6",
   "metadata": {},
   "outputs": [],
   "source": []
  }
 ],
 "metadata": {
  "kernelspec": {
   "display_name": "Python 3 (ipykernel)",
   "language": "python",
   "name": "python3"
  },
  "language_info": {
   "codemirror_mode": {
    "name": "ipython",
    "version": 3
   },
   "file_extension": ".py",
   "mimetype": "text/x-python",
   "name": "python",
   "nbconvert_exporter": "python",
   "pygments_lexer": "ipython3",
   "version": "3.9.13"
  }
 },
 "nbformat": 4,
 "nbformat_minor": 5
}
